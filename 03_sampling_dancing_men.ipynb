{
 "cells": [
  {
   "cell_type": "markdown",
   "metadata": {},
   "source": [
    "В этом небольшом домашнем задании мы попробуем улучшить метод Шерлока Холмса. Как известно, в рассказе The Adventure of the Dancing Men великий сыщик расшифровал загадочные письмена, которые выглядели примерно так:"
   ]
  },
  {
   "attachments": {
    "dancing_men.png": {
     "image/png": "[encoded data removed]"
    }
   },
   "cell_type": "markdown",
   "metadata": {},
   "source": [
    "![dancing_men.png](attachment:dancing_men.png)"
   ]
  },
  {
   "cell_type": "markdown",
   "metadata": {},
   "source": [
    "Пользовался он для этого так называемым частотным методом: смотрел, какие буквы чаще встречаются в зашифрованных текстах, и пытался подставить буквы в соответствии с частотной таблицей: E — самая частая и так далее.\n",
    "\n",
    "В этом задании мы будем разрабатывать более современный и продвинутый вариант такого частотного метода. В качестве корпусов текстов для подсчётов частот можете взять что угодно, но для удобства вот вам “Война и мир” по-русски и по-английски:\n",
    "\n",
    "https://www.dropbox.com/s/k23enjvr3fb40o5/corpora.zip "
   ]
  },
  {
   "cell_type": "code",
   "execution_count": 1,
   "metadata": {
    "ExecuteTime": {
     "end_time": "2022-05-09T20:41:39.978004Z",
     "start_time": "2022-05-09T20:41:39.257962Z"
    }
   },
   "outputs": [],
   "source": [
    "import os\n",
    "import re\n",
    "import random\n",
    "import numpy as np\n",
    "\n",
    "from copy import copy\n",
    "from collections import Counter, defaultdict\n",
    "from nltk import everygrams\n",
    "from nltk.tokenize import RegexpTokenizer"
   ]
  },
  {
   "cell_type": "markdown",
   "metadata": {},
   "source": [
    "# Базовый частотный метод"
   ]
  },
  {
   "cell_type": "markdown",
   "metadata": {},
   "source": [
    "Реализуйте базовый частотный метод по Шерлоку Холмсу:\n",
    "\n",
    "- подсчитайте частоты букв по корпусам (пунктуацию и капитализацию можно просто опустить, а вот пробелы лучше оставить);\n",
    "- возьмите какие-нибудь тестовые тексты (нужно взять по меньшей мере 2-3 предложения, иначе вряд ли сработает), зашифруйте их посредством случайной перестановки символов;\n",
    "- расшифруйте их таким частотным методом.\n"
   ]
  },
  {
   "cell_type": "code",
   "execution_count": 2,
   "metadata": {
    "ExecuteTime": {
     "end_time": "2022-05-09T20:41:42.132127Z",
     "start_time": "2022-05-09T20:41:42.118126Z"
    }
   },
   "outputs": [
    {
     "data": {
      "text/plain": [
       "['AnnaKarenina.txt', 'WarAndPeace.txt']"
      ]
     },
     "execution_count": 2,
     "metadata": {},
     "output_type": "execute_result"
    }
   ],
   "source": [
    "corpus_dir = f\"{os.curdir}/corpora\"\n",
    "corpus_files_ru = [file for file in os.listdir(corpus_dir) if 'Eng' not in file]\n",
    "corpus_files_ru"
   ]
  },
  {
   "cell_type": "code",
   "execution_count": 3,
   "metadata": {
    "ExecuteTime": {
     "end_time": "2022-05-09T20:41:42.921172Z",
     "start_time": "2022-05-09T20:41:42.881170Z"
    }
   },
   "outputs": [],
   "source": [
    "sentence_corpus = []\n",
    "for textfile in corpus_files_ru:\n",
    "    with open(os.path.join(corpus_dir, textfile), 'r', encoding='utf-8') as fin:\n",
    "        sentence_corpus.extend(fin.readlines())"
   ]
  },
  {
   "cell_type": "code",
   "execution_count": 4,
   "metadata": {
    "ExecuteTime": {
     "end_time": "2022-05-09T20:41:43.781221Z",
     "start_time": "2022-05-09T20:41:43.777221Z"
    }
   },
   "outputs": [
    {
     "data": {
      "text/plain": [
       "['\\n',\n",
       " 'В романе Толстого все было современным: и общий замысел, и подробности. И все, что попадало в поле его зрения, приобретало обобщенный, почти символический характер. Например, железная дорога. Она была в те годы великим техническим новшеством, переворотившим все привычные представления о времени, пространстве и движении. Жизнь героев романа «Анна Каренина» так или иначе связана с железной дорогой. Однажды утренним поездом в Москву приехал Левин. На другой день, около полудня, из Петербурга приехала Анна Каренина. «Платформа задрожала, и, пыхая сбиваемым книзу от мороза паром, прокатился паровоз с медленно и мерно насупливающимся и растягивающимся рычагом среднего колеса…» Никто не мог теперь обойтись без железной дороги – ни светская дама из столицы, ни усадебный помещик.\\n',\n",
       " '\\n',\n",
       " 'Железнодорожные станции с расходящимися в разные стороны лучами стальных путей были похожи на земные звезды. Сидя на звездообразном диване в ожидании поезда, Анна Каренина с отвращением глядела на входивших и выходивших – «все они были противны ей». Какая-то всеобщая разобщенность вокзальной толпы производила на современников горькое впечатление. Вспоминалась даже «звезда Полынь» из Апокалипсиса, которая упала «на источники» и отравила воды (гл. 8, ст. 10–11).\\n']"
      ]
     },
     "execution_count": 4,
     "metadata": {},
     "output_type": "execute_result"
    }
   ],
   "source": [
    "sentence_corpus[100:104]"
   ]
  },
  {
   "cell_type": "code",
   "execution_count": 5,
   "metadata": {
    "ExecuteTime": {
     "end_time": "2022-05-09T20:41:45.328310Z",
     "start_time": "2022-05-09T20:41:45.320309Z"
    }
   },
   "outputs": [],
   "source": [
    "corpus =  \" \".join(sentence_corpus)"
   ]
  },
  {
   "cell_type": "code",
   "execution_count": 6,
   "metadata": {
    "ExecuteTime": {
     "end_time": "2022-05-09T20:41:45.604325Z",
     "start_time": "2022-05-09T20:41:45.599325Z"
    }
   },
   "outputs": [],
   "source": [
    "# к сожалению, в библиотеке string есть только латинский алфавит, поэтому заведем свою строку\n",
    "alphabet_ru = \"абвгдежзийклмнопрстуфхцчшщъыьэюя \""
   ]
  },
  {
   "cell_type": "code",
   "execution_count": 7,
   "metadata": {
    "ExecuteTime": {
     "end_time": "2022-05-09T20:41:45.972346Z",
     "start_time": "2022-05-09T20:41:45.969346Z"
    }
   },
   "outputs": [],
   "source": [
    "def tokenize_text(text: str):\n",
    "    tokenizer=RegexpTokenizer(r\"\\w+\")\n",
    "    text = \"\".join([c for c in text.lower() if c in alphabet_ru])\n",
    "    return \" \".join(tokenizer.tokenize(text))"
   ]
  },
  {
   "cell_type": "code",
   "execution_count": 8,
   "metadata": {
    "ExecuteTime": {
     "end_time": "2022-05-09T20:41:46.367369Z",
     "start_time": "2022-05-09T20:41:46.360369Z"
    }
   },
   "outputs": [],
   "source": [
    "def get_ngram_frequencies(text: str, n_gram=1):\n",
    "    if n_gram > 1:\n",
    "        text = [\"\".join(ngram) for ngram in everygrams(text, min_len=n_gram, max_len=n_gram)]\n",
    "    frequency_dict = {k: v / len(text) for k, v in Counter(text).items() if v > 0}\n",
    "    return frequency_dict"
   ]
  },
  {
   "cell_type": "code",
   "execution_count": 9,
   "metadata": {
    "ExecuteTime": {
     "end_time": "2022-05-09T20:41:48.798508Z",
     "start_time": "2022-05-09T20:41:47.859454Z"
    }
   },
   "outputs": [],
   "source": [
    "tokenized_corpus = tokenize_text(corpus)\n",
    "corpus_freqs = get_ngram_frequencies(tokenized_corpus, n_gram=1)"
   ]
  },
  {
   "cell_type": "code",
   "execution_count": 10,
   "metadata": {
    "ExecuteTime": {
     "end_time": "2022-05-09T20:41:49.058523Z",
     "start_time": "2022-05-09T20:41:49.052523Z"
    }
   },
   "outputs": [],
   "source": [
    "# определим случайную перестановку\n",
    "original_order = list(corpus_freqs.keys())\n",
    "permutated_order = np.random.choice(original_order, replace=False, size=len(corpus_freqs))\n",
    "permutation = {or_char: perm_char for or_char, perm_char in zip(original_order, permutated_order)}\n",
    "permutation[' '] = ' '"
   ]
  },
  {
   "cell_type": "code",
   "execution_count": 11,
   "metadata": {
    "ExecuteTime": {
     "end_time": "2022-05-09T20:41:49.309537Z",
     "start_time": "2022-05-09T20:41:49.305537Z"
    }
   },
   "outputs": [],
   "source": [
    "def encode_text(text: str, permutation: dict):\n",
    "    return \"\".join([permutation.get(char, '-') for char in text])"
   ]
  },
  {
   "cell_type": "code",
   "execution_count": 12,
   "metadata": {
    "ExecuteTime": {
     "end_time": "2022-05-09T20:41:50.494605Z",
     "start_time": "2022-05-09T20:41:50.484605Z"
    }
   },
   "outputs": [
    {
     "data": {
      "text/plain": [
       "'Степан Аркадьич не избирал ни направления, ни взглядов, а эти направления и взгляды сами приходили к нему, точно так же, как он не выбирал формы шляпы или сюртука, а брал те, которые носят. А иметь взгляды ему, жившему в известном обществе, при потребности некоторой деятельности мысли, развивающейся обыкновенно в лета зрелости, было так же необходимо, как иметь шляпу. Если и была причина, почему он предпочитал либеральное направление консервативному, какого держались тоже многие из его круга, то это произошло не от того, чтоб он находил либеральное направление более разумным, но потому, что оно подходило ближе к его образу жизни. Либеральная партия говорила, что в России все скверно, и действительно, у Степана Аркадьича долгов было много, а денег решительно недоставало. Либеральная партия говорила, что брак есть отжившее учреждение и что необходимо перестроить его, и действительно, семейная жизнь доставляла мало удовольствия Степану Аркадьичу и принуждала его лгать и притворяться, что было так противно его натуре. Либеральная партия говорила, или, лучше, подразумевала, что религия есть только узда для варварской части населения, и действительно, Степан Аркадьич не мог вынести без боли в ногах даже короткого молебна и не мог понять, к чему все эти страшные и высокопарные слова о том свете, когда и на этом жить было бы очень весело. Вместе с этим Степану Аркадьичу, любившему веселую шутку, было приятно иногда озадачить смирного человека тем, что если уже гордиться породой, то не следует останавливаться на Рюрике и отрекаться от первого родоначальника – обезьяны. Итак, либеральное направление сделалось привычкой Степана Аркадьича, и он любил свою газету, как сигару после обеда, за легкий туман, который она производила в его голове. Он прочел руководящую статью, в которой объяснялось, что в наше время совершенно напрасно поднимается вопль о том, будто бы радикализм угрожает поглотить все консервативные элементы и будто бы правительство обязано принять меры для подавления революционной гидры, что, напротив, «по нашему мнению, опасность лежит не в мнимой революционной гидре, а в упорстве традиционности, тормозящей прогресс», и т. д. Он прочел и другую статью, финансовую, в которой упоминалось о Бентаме и Милле и подпускались тонкие шпильки министерству. Со свойственною ему быстротою соображения он понимал значение всякой шпильки: от кого и на кого и по какому случаю она была направлена, и это, как всегда, доставляло ему некоторое удовольствие. Но сегодня удовольствие это отравлялось воспоминанием о советах Матрены Филимоновны и о том, что в доме так неблагополучно. Он прочел и о том, что граф Бейст, как слышно, проехал в Висбаден[35], и о том, что нет более седых волос, и о продаже легкой кареты, и предложение молодой особы; но эти сведения не доставляли ему, как прежде, тихого иронического удовольствия.\\n'"
      ]
     },
     "execution_count": 12,
     "metadata": {},
     "output_type": "execute_result"
    }
   ],
   "source": [
    "# Отдельное удовольствие - тестироваться на данных, на которых проходило обучение, поэтому возьмем\n",
    "# абзац из входных данных\n",
    "test_text = sentence_corpus[317]\n",
    "test_text"
   ]
  },
  {
   "cell_type": "code",
   "execution_count": 13,
   "metadata": {
    "ExecuteTime": {
     "end_time": "2022-05-09T20:41:53.233762Z",
     "start_time": "2022-05-09T20:41:53.225761Z"
    }
   },
   "outputs": [
    {
     "data": {
      "text/plain": [
       "'нфсмег екъецщхп гс хбжхкей гх гемкелйсгхо гх лбюйоцэл е зфх гемкелйсгхо х лбюйоци недх мкхьэцхйх ъ гсдя фэпгэ феъ шс ъеъ эг гс лижхкей аэкди рйоми хйх нвкфяъе е жкей фс ъэфэкис гэноф е хдсфщ лбюйоци сдя шхлрсдя л хблснфгэд эжчснфлс мкх мэфксжгэнфх гсъэфэкэу цсофсйщгэнфх динйх кеблхлевчсуно эжиъгэлсггэ л йсфе бксйэнфх жийэ феъ шс гсэжьэцхдэ ъеъ хдсфщ рйомя снйх х жийе мкхпхге мэпсдя эг мксцмэпхфей йхжскейщгэс гемкелйсгхс ъэгнсклефхлгэдя ъеъэюэ цскшейхнщ фэшс дгэюхс хб сюэ ъкяюе фэ зфэ мкэхбэрйэ гс эф фэюэ пфэж эг геьэцхй йхжскейщгэс гемкелйсгхс жэйсс кебядгид гэ мэфэдя пфэ эгэ мэцьэцхйэ жйхшс ъ сюэ эжкебя шхбгх йхжскейщгео мекфхо юэлэкхйе пфэ л кэннхх лнс нълскгэ х цсунфлхфсйщгэ я нфсмеге екъецщхпе цэйюэл жийэ дгэюэ е цсгсю ксрхфсйщгэ гсцэнфелейэ йхжскейщгео мекфхо юэлэкхйе пфэ жкеъ снфщ эфшхлрсс япксшцсгхс х пфэ гсэжьэцхдэ мскснфкэхфщ сюэ х цсунфлхфсйщгэ нсдсугео шхбгщ цэнфелйойе дейэ яцэлэйщнфлхо нфсмегя екъецщхпя х мкхгяшцейе сюэ йюефщ х мкхфлэкофщно пфэ жийэ феъ мкэфхлгэ сюэ гефякс йхжскейщгео мекфхо юэлэкхйе хйх йяпрс мэцкебядслейе пфэ ксйхюхо снфщ фэйщъэ ябце цйо леклекнъэу пенфх генсйсгхо х цсунфлхфсйщгэ нфсмег екъецщхп гс дэю лигснфх жсб жэйх л гэюеь цешс ъэкэфъэюэ дэйсжге х гс дэю мэгофщ ъ псдя лнс зфх нфкергис х линэъэмекгис нйэле э фэд нлсфс ъэюце х ге зфэд шхфщ жийэ жи эпсгщ лснсйэ лдснфс н зфхд нфсмегя екъецщхпя йвжхлрсдя лснсйяв ряфъя жийэ мкхофгэ хгэюце эбецепхфщ ндхкгэюэ псйэлсъе фсд пфэ снйх яшс юэкцхфщно мэкэцэу фэ гс нйсцясф энфегелйхлефщно ге квкхъс х эфксъефщно эф мсклэюэ кэцэгепейщгхъе эжсбщоги хфеъ йхжскейщгэс гемкелйсгхс нцсйейэнщ мкхлипъэу нфсмеге екъецщхпе х эг йвжхй нлэв юебсфя ъеъ нхюекя мэнйс эжсце бе йсюъху фядег ъэфэкиу эге мкэхблэцхйе л сюэ юэйэлс эг мкэпсй кяъэлэцочяв нфефщв л ъэфэкэу эжыонгойэнщ пфэ л герс лксдо нэлскрсггэ гемкенгэ мэцгхдесфно лэмйщ э фэд жяцфэ жи кецхъейхбд яюкэшесф мэюйэфхфщ лнс ъэгнсклефхлгис зйсдсгфи х жяцфэ жи мкелхфсйщнфлэ эжобегэ мкхгофщ дски цйо мэцелйсгхо кслэйв хэггэу юхцки пфэ гемкэфхл мэ герсдя дгсгхв эменгэнфщ йсшхф гс л дгхдэу кслэйв хэггэу юхцкс е л ямэкнфлс фкецх хэггэнфх фэкдэбочсу мкэюкснн х ф ц эг мкэпсй х цкяюяв нфефщв ахгегнэляв л ъэфэкэу ямэдхгейэнщ э жсгфедс х дхййс х мэцмянъейхнщ фэгъхс рмхйщъх дхгхнфскнфля нэ нлэунфлсггэв сдя жинфкэфэв нээжкешсгхо эг мэгхдей бгепсгхс лноъэу рмхйщъх эф ъэюэ х ге ъэюэ х мэ ъеъэдя нйяпев эге жийе гемкелйсге х зфэ ъеъ лнсюце цэнфелйойэ сдя гсъэфэкэс яцэлэйщнфлхс гэ нсюэцго яцэлэйщнфлхс зфэ эфкелйойэнщ лэнмэдхгегхсд э нэлсфеь дефксги ахйхдэгэлги х э фэд пфэ л цэдс феъ гсжйеюэмэйяпгэ эг мкэпсй х э фэд пфэ юкеа жсунф ъеъ нйиргэ мкэсьей л лхнжецсг х э фэд пфэ гсф жэйсс нсциь лэйэн х э мкэцешс йсюъэу ъексфи х мксцйэшсгхс дэйэцэу энэжи гэ зфх нлсцсгхо гс цэнфелйойх сдя ъеъ мксшцс фхьэюэ хкэгхпснъэюэ яцэлэйщнфлхо'"
      ]
     },
     "execution_count": 13,
     "metadata": {},
     "output_type": "execute_result"
    }
   ],
   "source": [
    "tokenized_text = tokenize_text(test_text)\n",
    "encoded_text = encode_text(tokenized_text, permutation)\n",
    "encoded_freqs = get_ngram_frequencies(encoded_text)\n",
    "encoded_text"
   ]
  },
  {
   "cell_type": "code",
   "execution_count": 14,
   "metadata": {
    "ExecuteTime": {
     "end_time": "2022-05-09T20:41:56.265935Z",
     "start_time": "2022-05-09T20:41:56.252934Z"
    }
   },
   "outputs": [],
   "source": [
    "def get_decode_permutation(corpus_freqs, encoded_freqs):\n",
    "    corpus_freqs_sorted = sorted(corpus_freqs.items(), key=lambda x: x[1], reverse=True)\n",
    "    encoded_freqs_sorted = sorted(encoded_freqs.items(), key=lambda x: x[1], reverse=True)\n",
    "    reverse_permutation = {}\n",
    "    for char, freq in encoded_freqs_sorted:\n",
    "        min_diff = 1.0 \n",
    "        best_char = ''\n",
    "        for corpus_char, corpus_freq in corpus_freqs_sorted:\n",
    "            diff = abs(corpus_freq - freq)\n",
    "            if diff < min_diff:\n",
    "                best_char = corpus_char\n",
    "                min_diff = diff\n",
    "\n",
    "        reverse_permutation[char] = best_char\n",
    "        corpus_freqs_sorted = [(char, freq) for char, freq in corpus_freqs_sorted if char != best_char]\n",
    "    reverse_permutation[' '] = ' '\n",
    "    return reverse_permutation\n"
   ]
  },
  {
   "cell_type": "code",
   "execution_count": 15,
   "metadata": {
    "ExecuteTime": {
     "end_time": "2022-05-09T20:42:05.146443Z",
     "start_time": "2022-05-09T20:42:05.141443Z"
    }
   },
   "outputs": [],
   "source": [
    "decoded_permutation = get_decode_permutation(corpus_freqs, encoded_freqs)"
   ]
  },
  {
   "cell_type": "code",
   "execution_count": 16,
   "metadata": {
    "ExecuteTime": {
     "end_time": "2022-05-09T20:42:06.315510Z",
     "start_time": "2022-05-09T20:42:06.308510Z"
    }
   },
   "outputs": [
    {
     "data": {
      "text/plain": [
       "'виемнт нлундьаз те айыалнс та тнмлнрсетаб та рйгсбдор н щиа тнмлнрсетаб а рйгсбдч внпа млацодаса у тепя иозто ину хе уну от те рчыалнс фолпч эсбмч аса вюлияун н ылнс ие уоиолче товби н апеиь рйгсбдч епя харэепя р айревитоп оыъевире мла моилеытовиа теуоиолош дебиесьтовиа пчвса лнйрарнюъешвб оычуторетто р сеин йлесовиа ычсо ину хе теоыцодапо уну апеиь эсбмя евса а ычсн млазатн мозепя от мледмозаинс саыелнсьтое тнмлнрсетае уотвелрниартопя унуого делхнсавь иохе птогае ай его улягн ио щио млоайоэсо те ои иого зиоы от тнцодас саыелнсьтое тнмлнрсетае ыосее лнйяптчп то моиопя зио ото модцодасо ысахе у его оылнйя хайта саыелнсьтнб мнлиаб гороласн зио р ловваа рве вурелто а дешвираиесьто я виемнтн нлундьазн досгор ычсо птого н детег леэаиесьто тедовинрнсо саыелнсьтнб мнлиаб гороласн зио ылну евиь оихарэее язлехдетае а зио теоыцодапо мелевилоаиь его а дешвираиесьто вепештнб хайть довинрсбсн пнсо ядоросьвираб виемнтя нлундьазя а млатяхднсн его сгниь а млаиролбиьвб зио ычсо ину млоиарто его тнияле саыелнсьтнб мнлиаб гороласн аса сязэе модлнйяпернсн зио лесагаб евиь иосьуо яйдн дсб рнлрнлвуош знвиа тнвесетаб а дешвираиесьто виемнт нлундьаз те пог рчтевиа ыей ыоса р тогнц днхе уолоиуого посеытн а те пог мотбиь у зепя рве щиа вилнэтче а рчвоуомнлтче всорн о иоп вреие уогдн а тн щиоп хаиь ычсо ыч озеть ревесо рпевие в щиап виемнтя нлундьазя сюыарэепя ревесяю эяиуя ычсо млабито атогдн ойнднзаиь впалтого зесореун иеп зио евса яхе голдаиьвб молодош ио те вседяеи овинтнрсарниьвб тн люлауе а оилеуниьвб ои мелрого лодотнзнсьтаун оыейьбтч аину саыелнсьтое тнмлнрсетае вдеснсовь мларчзуош виемнтн нлундьазн а от сюыас врою гнйеия уну вагнля мовсе оыедн йн сегуаш ияпнт уоиолчш отн млоайродасн р его госоре от млозес ляуородбъяю виниью р уоиолош оыжбвтбсовь зио р тнэе рлепб ворелэетто тнмлнвто модтапнеивб ромсь о иоп ыядио ыч лндаунсайп яглохнеи могсоиаиь рве уотвелрниартче щсепетич а ыядио ыч млнраиесьвиро оыбйнто млатбиь пелч дсб моднрсетаб леросю аоттош гадлч зио тнмлоиар мо тнэепя птетаю омнвтовиь сехаи те р птапош леросю аоттош гадле н р ямолвире илнда аоттовиа иолпойбъеш млоглевв а и д от млозес а длягяю виниью фатнтворяю р уоиолош ямопатнсовь о ыетинпе а пассе а модмявунсавь иотуае эмасьуа патавиелвиря во врошвиреттою епя ычвилоиою вооылнхетаб от мотапнс йтнзетае рвбуош эмасьуа ои уого а тн уого а мо унуопя всязню отн ычсн тнмлнрсетн а щио уну рвегдн довинрсбсо епя теуоиолое ядоросьвирае то вегодтб ядоросьвирае щио оилнрсбсовь ровмопатнтаеп о вореинц пнилетч фасапотортч а о иоп зио р допе ину теыснгомосязто от млозес а о иоп зио глнф ыешви уну всчэто млоецнс р равындет а о иоп зио теи ыосее ведчц росов а о млоднхе сегуош унлеич а мледсохетае посодош овоыч то щиа вредетаб те довинрсбса епя уну млехде иацого алотазевуого ядоросьвираб'"
      ]
     },
     "execution_count": 16,
     "metadata": {},
     "output_type": "execute_result"
    }
   ],
   "source": [
    "decoded_text = encode_text(encoded_text, decoded_permutation)\n",
    "decoded_text"
   ]
  },
  {
   "cell_type": "markdown",
   "metadata": {
    "ExecuteTime": {
     "end_time": "2022-05-09T15:36:09.886582Z",
     "start_time": "2022-05-09T15:36:09.882582Z"
    }
   },
   "source": [
    "Да, расшифровка очень далека от идеала"
   ]
  },
  {
   "cell_type": "markdown",
   "metadata": {},
   "source": [
    "# Анализ частот биграмм"
   ]
  },
  {
   "cell_type": "markdown",
   "metadata": {},
   "source": [
    "Вряд ли в результате получилась такая уж хорошая расшифровка, разве что если вы брали в качестве тестовых данных целые рассказы. Но и Шерлок Холмс был не так уж прост: после буквы E, которая действительно выделяется частотой, дальше он анализировал уже конкретные слова и пытался угадать, какими они могли бы быть. Я не знаю, как запрограммировать такой интуитивный анализ, так что давайте просто сделаем следующий логический шаг:\n",
    "\n",
    "- подсчитайте частоты биграмм (т.е. пар последовательных букв) по корпусам;\n",
    "- проведите тестирование аналогично п.1, но при помощи биграмм.\n"
   ]
  },
  {
   "cell_type": "code",
   "execution_count": 18,
   "metadata": {
    "ExecuteTime": {
     "end_time": "2022-05-09T20:42:12.204847Z",
     "start_time": "2022-05-09T20:42:10.524751Z"
    }
   },
   "outputs": [],
   "source": [
    "corpus_freqs_bigramm = get_ngram_frequencies(tokenized_corpus, n_gram=2)\n",
    "encoded_freqs_bigramm = get_ngram_frequencies(encoded_text, n_gram=2)"
   ]
  },
  {
   "cell_type": "code",
   "execution_count": 17,
   "metadata": {
    "ExecuteTime": {
     "end_time": "2022-05-09T20:42:09.204675Z",
     "start_time": "2022-05-09T20:42:09.188674Z"
    }
   },
   "outputs": [],
   "source": [
    "def get_decode_permutation_bigramm(corpus_freqs, encoded_freqs):\n",
    "    corpus_freqs_sorted = sorted(corpus_freqs.items(), key=lambda x: x[1], reverse=True)\n",
    "    encoded_freqs_sorted = sorted(encoded_freqs.items(), key=lambda x: x[1], reverse=True)\n",
    "    reverse_permutation = {}\n",
    "    \n",
    "    # Теперь нужно сделать то же самое, что в п. 1, только для биграмм\n",
    "    # и учитывая уже расшифрованные символы\n",
    "    for i, (encoded_ngram, encoded_freq) in enumerate(encoded_freqs_sorted):\n",
    "        filtered_freqs = copy(corpus_freqs_sorted)\n",
    "\n",
    "        for j in range(2):\n",
    "            if encoded_ngram[j] in reverse_permutation:\n",
    "                filtered_freqs = [(ngram, freq) for ngram, freq in filtered_freqs\n",
    "                                   if ngram[j] == reverse_permutation[encoded_ngram[j]]]\n",
    "        min_diff = 1.0  \n",
    "        best_ngram = None\n",
    "        for ngram, freq in filtered_freqs:\n",
    "            diff = abs(freq - encoded_freq)\n",
    "            if diff < min_diff:\n",
    "                best_ngram = ngram\n",
    "                min_diff = diff\n",
    "        for j in range(2):\n",
    "            if encoded_ngram[j] not in reverse_permutation:\n",
    "                reverse_permutation[encoded_ngram[j]] = best_ngram[j]\n",
    "    reverse_permutation[' '] = ' '\n",
    "    return reverse_permutation"
   ]
  },
  {
   "cell_type": "code",
   "execution_count": 19,
   "metadata": {
    "ExecuteTime": {
     "end_time": "2022-05-09T20:42:15.507036Z",
     "start_time": "2022-05-09T20:42:15.405030Z"
    }
   },
   "outputs": [],
   "source": [
    "decoded_permutation_bigramm = get_decode_permutation_bigramm(corpus_freqs_bigramm, encoded_freqs_bigramm)"
   ]
  },
  {
   "cell_type": "code",
   "execution_count": 20,
   "metadata": {
    "ExecuteTime": {
     "end_time": "2022-05-09T20:42:15.837055Z",
     "start_time": "2022-05-09T20:42:15.832054Z"
    }
   },
   "outputs": [
    {
     "data": {
      "text/plain": [
       "' вавяп яотяслач па автаояп па пявояипапаь па ивгпьсои я лва пявояипапаь а ивгпьсв  яна воахосапа т панл вочпо вят  а тят оп па ивтаояп шоонв мпьвв апа  ковлтя я тояп ва товоова по ьв я анавл ивгпьсв анл  аиманл и авиа впон отпа виа воа вовоатпо ва патовооов саьваплпо ва нв па оявиаиякпав ь отвтпоиаппо и павя воапо ва твпо вят  а паотхосано тят анавл мпьвл а па а твпя воачапя вочанл оп воасвочавяп патаояплпоа пявояипапаа топ аоияваипонл тятого сао япа л во а нпогаа ав аго толгя во лво вооавомпо па ов вого чвот оп пяхосап патаояплпоа пявояипапаа топаа оявлнпвн по вовонл чво опо восхосапо тпа а т аго отоявл  авпа патаояплпяь вяоваь гоиооапя чво и оо  аа и а  тиаопо а сав виаваплпо л  вавяпя яотяслачя сопгои твпо нпого я сапаг оамаваплпо пасо вяияпо патаояплпяь вяоваь гоиооапя чво тоят а вл ов аимаа лчоа сапаа а чво паотхосано ваоа вооавл аго а сав виаваплпо  анавпяь  авпл со вяипьпя няпо лсоиопл виаь  вавяпл яотяслачл а воапл сяпя аго пгявл а воавиооьвл ь чво твпо вят вооваипо аго пявлоа патаояплпяь вяоваь гоиооапя апа плчма восоявлнаияпя чво оапагаь а вл воплто лвся спь ияоияо тов чя ва пя апапаь а сав виаваплпо  вавяп яотяслач па ног ивпа ва тав топа и погях ся а тооовтого нопатпя а па ног вопьвл т чанл и а лва  воямпва а ив отовяопва  поия о вон  иава тогся а пя лвон  авл твпо тв очапл иа апо ина ва   лван  вавяпл яотяслачл пктаиманл иа аплк млвтл твпо воаьвпо апогся овясячавл  наопого чапоиатя ван чво а па л а гоосавл ь вооосов во па  паслав о вяпяипаиявл ь пя окоата а овоатявл ь ов ваоиого оосопячяплпатя отавльпв авят патаояплпоа пявояипапаа  сапяпо л воаивчтов  вавяпя яотяслачя а оп пктап  иок гявавл тят  агяол во па отася вя пагтав влняп товоовв опя вооавиосапя и аго гопоиа оп воочап олтоиосьплк  вявлк и товооов откь пьпо л чво и пяма иоань  оиаомаппо пявоя по воспаняав ь иовпл о вон тлсво тв оясатяпавн лгоо яав вогповавл и а топ аоияваипва лпанапвв а тлсво тв вояиавапл вио отьвяпо воапьвл наов спь восяипапаь оаиопк аоппов гасов чво пявооваи во пяманл нпапак овя по вл па ав па и нпанов оаиопк аоппов гасоа я и лвоо виа вояса аоппо ва вооновьпав воогоа   а в с оп воочап а солглк  вявлк шапяп оилк и товооов лвонапяпо л о тапвяна а наппа а восвл тяпа л воптаа мваплта напа вао вил  о  иов виаппок анл тв воовок  оотоя апаь оп вопаняп впячапаа и ьтов мваплта ов того а пя того а во тятонл  плчяк опя твпя пявояипапя а лво тят и агся со вяипьпо анл патовоооа лсоиопл виаа по  агоспь лсоиопл виаа лво овояипьпо л ио вонапяпаан о  оиавях нявоапв шапанопоипв а о вон чво и сона вят патпяговоплчпо оп воочап а о вон чво гояш тав в тят  пвмпо вооахяп и иа тясап а о вон чво пав топаа  асвх иопо  а о воося а пагтов тяоавв а воаспо апаа нопосов о отв по лва  иасапаь па со вяипьпа анл тят воа са вахого аоопача того лсоиопл виаь'"
      ]
     },
     "execution_count": 20,
     "metadata": {},
     "output_type": "execute_result"
    }
   ],
   "source": [
    "decoded_text_bigramm = encode_text(encoded_text, decoded_permutation_bigramm)\n",
    "decoded_text_bigramm"
   ]
  },
  {
   "cell_type": "markdown",
   "metadata": {},
   "source": [
    "На данном примере биграммы никак не помогли."
   ]
  },
  {
   "cell_type": "markdown",
   "metadata": {},
   "source": [
    "# MCMC-сэмплирование"
   ]
  },
  {
   "cell_type": "markdown",
   "metadata": {},
   "source": [
    "Но и это ещё не всё: биграммы скорее всего тоже далеко не всегда работают. Основная часть задания — в том, как можно их улучшить:\n",
    "\n",
    "- предложите метод обучения перестановки символов в этом задании, основанный на MCMC-сэмплировании, но по-прежнему работающий на основе статистики биграмм;\n",
    "- реализуйте и протестируйте его, убедитесь, что результаты улучшились\n"
   ]
  },
  {
   "cell_type": "markdown",
   "metadata": {},
   "source": [
    "Воспользуемся следующим порядком действий:\n",
    "\n",
    "\n",
    "1) Инициализируем перестановки, восстанавливаем текст и вычисляем логарифм правдоподобия $p_{curr}$\n",
    "\n",
    "2) Меняем местами пару символов для перестановки\n",
    "\n",
    "3) Восстанавливаем текст с новой перестановкой и вычисляем $p_{new}$\n",
    "\n",
    "4) Принимаем новую перестановку с вероятностью $P={p_{new}/p_{curr}}$\n",
    "\n",
    "5) Повторяем пункты 2-4\n"
   ]
  },
  {
   "cell_type": "code",
   "execution_count": 21,
   "metadata": {
    "ExecuteTime": {
     "end_time": "2022-05-09T20:42:20.593327Z",
     "start_time": "2022-05-09T20:42:20.582326Z"
    }
   },
   "outputs": [],
   "source": [
    "# обновим функцию - добавим сглаживание\n",
    "def get_ngram_frequencies_mod(text, n_gram=2):\n",
    "    vocab_size = len(set(text)) ** n_gram\n",
    "    if n_gram > 1:\n",
    "        text = [\"\".join(ngram) for ngram in everygrams(text, min_len=n_gram, max_len=n_gram)]\n",
    "    frequency_dict = {k: (v + 1) / (len(text) + vocab_size) for k, v in Counter(text).items()}\n",
    "    return frequency_dict"
   ]
  },
  {
   "cell_type": "code",
   "execution_count": 22,
   "metadata": {
    "ExecuteTime": {
     "end_time": "2022-05-09T20:42:23.615500Z",
     "start_time": "2022-05-09T20:42:23.605499Z"
    }
   },
   "outputs": [],
   "source": [
    "def get_text_probability(text: str, permutation: dict, freqs: dict, n_gram=2):\n",
    "    decoded_text = encode_text(text, permutation)\n",
    "    log_proba = 0.0\n",
    "    for i in range(len(decoded_text) - n_gram):\n",
    "        ngram = decoded_text[i : i + n_gram]\n",
    "        ngram_proba = freqs.get(ngram, 1 / (len(text) + len(alphabet_ru) ** n_gram))\n",
    "        log_proba += np.log(ngram_proba)\n",
    "    return log_proba"
   ]
  },
  {
   "cell_type": "code",
   "execution_count": 23,
   "metadata": {
    "ExecuteTime": {
     "end_time": "2022-05-09T20:42:24.963577Z",
     "start_time": "2022-05-09T20:42:24.941575Z"
    }
   },
   "outputs": [],
   "source": [
    "def get_reverse_permutation_mcmc(encoded_text: str, freqs_corpus: dict,\n",
    "                                 alphabet_encoded=alphabet_ru, alphabet_iter=alphabet_ru,\n",
    "                                n_iter=10000, n_runs=10, n_gram=2):\n",
    "    accept_count = 0\n",
    "    best_reverse_permutation = None\n",
    "    permutations = []\n",
    "    best_log_likelihood = -np.inf\n",
    "    \n",
    "    for run in range(n_runs):\n",
    "        alphabet_encoded = list(alphabet_encoded)\n",
    "        alphabet_iter = list(alphabet_iter)\n",
    "        reverse_permutation = {k: v for k, v in zip(alphabet_encoded, alphabet_iter[: len(alphabet_encoded)])}\n",
    "        log_proba_current = get_text_probability(encoded_text, reverse_permutation,\n",
    "                                                 freqs_corpus, n_gram=n_gram)\n",
    "        for i in range(n_iter):\n",
    "            alphabet_new = alphabet_iter[:]\n",
    "            id_1, id_2 = np.random.choice(len(alphabet_new), replace=False, size=2)\n",
    "            alphabet_new[id_1], alphabet_new[id_2] = (alphabet_new[id_2], alphabet_new[id_1],)\n",
    "            reverse_permutation_new = {k: v for k, v\n",
    "                                        in zip(alphabet_encoded, alphabet_new[: len(alphabet_encoded)])}\n",
    "            log_proba_new = get_text_probability(encoded_text, reverse_permutation_new,\n",
    "                                                  freqs_corpus, n_gram=n_gram)\n",
    "            p_new = np.exp(log_proba_new - log_proba_current)\n",
    "            if p_new > np.random.rand():\n",
    "                accept_count += 1\n",
    "                alphabet_iter = alphabet_new\n",
    "                log_proba_current = log_proba_new\n",
    "                reverse_permutation = reverse_permutation_new\n",
    "\n",
    "        if log_proba_current > best_log_likelihood:\n",
    "            best_log_likelihood = log_proba_current\n",
    "            best_reverse_permutation = reverse_permutation_new\n",
    "        permutations.append(reverse_permutation_new)\n",
    "    best_reverse_permutation[' '] = ' '\n",
    "    return best_reverse_permutation"
   ]
  },
  {
   "cell_type": "code",
   "execution_count": 24,
   "metadata": {
    "ExecuteTime": {
     "end_time": "2022-05-09T20:42:33.662074Z",
     "start_time": "2022-05-09T20:42:31.828969Z"
    }
   },
   "outputs": [],
   "source": [
    "freqs_corpus = get_ngram_frequencies_mod(tokenized_corpus, n_gram=2)"
   ]
  },
  {
   "cell_type": "code",
   "execution_count": 26,
   "metadata": {
    "ExecuteTime": {
     "end_time": "2022-05-09T20:06:50.670502Z",
     "start_time": "2022-05-09T19:48:59.907258Z"
    }
   },
   "outputs": [
    {
     "name": "stderr",
     "output_type": "stream",
     "text": [
      "C:\\Anaconda\\lib\\site-packages\\ipykernel_launcher.py:25: RuntimeWarning: overflow encountered in exp\n"
     ]
    }
   ],
   "source": [
    "best_reverse_permutation = get_reverse_permutation_mcmc(encoded_text, freqs_corpus=freqs_corpus)"
   ]
  },
  {
   "cell_type": "code",
   "execution_count": 27,
   "metadata": {
    "ExecuteTime": {
     "end_time": "2022-05-09T20:06:55.053753Z",
     "start_time": "2022-05-09T20:06:55.048752Z"
    }
   },
   "outputs": [
    {
     "data": {
      "text/plain": [
       "'степан аркадь ч не  зб рал н  направлен я н  взглядов а эт  направлен я   взгляды сам  пр ход л  к неми точно так же как он не выб рал формы шляпы  л  сюртика а брал те которые носят а  меть взгляды еми ж вшеми в  звестном обществе пр  потребност  некоторой деятельност  мысл  разв вающейся обыкновенно в лета зрелост  было так же необход мо как  меть шляпи есл    была пр ч на почеми он предпоч тал л беральное направлен е консерват вноми какого держал сь тоже мног е  з его крига то это про зошло не от того чтоб он наход л л беральное направлен е более разимным но потоми что оно подход ло бл же к его образи ж зн  л беральная парт я говор ла что в росс   все скверно   действ тельно и степана аркадь ча долгов было много а денег реш тельно недоставало л беральная парт я говор ла что брак есть отж вшее ичрежден е   что необход мо перестро ть его   действ тельно семейная ж знь доставляла мало идовольств я степани аркадь чи   пр ниждала его лгать   пр творяться что было так прот вно его натире л беральная парт я говор ла  л  личше подразимевала что рел г я есть только изда для варварской част  населен я   действ тельно степан аркадь ч не мог вынест  без бол  в ногах даже короткого молебна   не мог понять к чеми все эт  страшные   высокопарные слова о том свете когда   на этом ж ть было бы очень весело вместе с эт м степани аркадь чи люб вшеми веселию шитки было пр ятно  ногда озадач ть см рного человека тем что есл  иже горд ться породой то не следиет останавл ваться на рюр ке   отрекаться от первого родоначальн ка обезьяны  так л беральное направлен е сделалось пр вычкой степана аркадь ча   он люб л свою газети как с гари после обеда за легк й тиман который она про звод ла в его голове он прочел риководящию статью в которой объяснялось что в наше время совершенно напрасно подн мается вопль о том бидто бы рад кал зм игрожает поглот ть все консерват вные элементы   бидто бы прав тельство обязано пр нять меры для подавлен я революу онной г дры что напрот в по нашеми мнен ю опасность леж т не в мн мой революу онной г дре а в ипорстве трад у онност  тормозящей прогресс   т д он прочел   дригию статью ф нансовию в которой ипом налось о бентаме   м лле   подпискал сь тонк е шп льк  м н стерстви со свойственною еми быстротою соображен я он пон мал значен е всякой шп льк  от кого   на кого   по какоми сличаю она была направлена   это как всегда доставляло еми некоторое идовольств е но сегодня идовольств е это отравлялось воспом нан ем о советах матрены ф л моновны   о том что в доме так неблагополично он прочел   о том что граф бейст как слышно проехал в в сбаден   о том что нет более седых волос   о продаже легкой кареты   предложен е молодой особы но эт  сведен я не доставлял  еми как прежде т хого  рон ческого идовольств я'"
      ]
     },
     "execution_count": 27,
     "metadata": {},
     "output_type": "execute_result"
    }
   ],
   "source": [
    "decoded_text = encode_text(encoded_text, best_reverse_permutation)\n",
    "decoded_text"
   ]
  },
  {
   "cell_type": "markdown",
   "metadata": {
    "ExecuteTime": {
     "end_time": "2022-05-09T20:07:00.812082Z",
     "start_time": "2022-05-09T20:07:00.808082Z"
    }
   },
   "source": [
    "Не идеально, но уже вполне читаемо"
   ]
  },
  {
   "cell_type": "markdown",
   "metadata": {},
   "source": [
    "# Проверочное сообщение"
   ]
  },
  {
   "cell_type": "markdown",
   "metadata": {},
   "source": [
    "Расшифруйте сообщение:"
   ]
  },
  {
   "cell_type": "markdown",
   "metadata": {},
   "source": [
    "←⇠⇒↟↹↷⇊↹↷↟↤↟↨←↹↝⇛⇯↳⇴⇒⇈↝⇊↾↹↟⇒↟↹⇷⇛⇞↨↟↹↝⇛⇯↳⇴⇒⇈↝⇊↾↹↨←⇌⇠↨↹⇙↹⇸↨⇛↙⇛↹⇠⇛⇛↲⇆←↝↟↞↹⇌⇛↨⇛⇯⇊↾↹⇒←↙⇌⇛↹⇷⇯⇛⇞↟↨⇴↨⇈↹⇠⇌⇛⇯←←↹↷⇠←↙⇛↹↷⇊↹↷⇠←↹⇠↤←⇒⇴⇒↟↹⇷⇯⇴↷↟⇒⇈↝⇛↹↟↹⇷⇛⇒⇙⇞↟↨←↹↳⇴⇌⇠↟↳⇴⇒⇈↝⇊↾↹↲⇴⇒⇒↹⇰⇴↹⇷⇛⇠⇒←↤↝←←↹⇞←↨↷←⇯↨⇛←↹⇰⇴↤⇴↝↟←↹⇌⇙⇯⇠⇴↹↘⇛↨↞↹⇌⇛↝←⇞↝⇛↹↞↹↝↟⇞←↙⇛↹↝←↹⇛↲←⇆⇴⇏"
   ]
  },
  {
   "cell_type": "code",
   "execution_count": 25,
   "metadata": {
    "ExecuteTime": {
     "end_time": "2022-05-09T20:42:37.356285Z",
     "start_time": "2022-05-09T20:42:37.350285Z"
    }
   },
   "outputs": [],
   "source": [
    "encrypted_text = r\"←⇠⇒↟↹↷⇊↹↷↟↤↟↨←↹↝⇛⇯↳⇴⇒⇈↝⇊↾↹↟⇒↟↹⇷⇛⇞↨↟↹↝⇛⇯↳⇴⇒⇈↝⇊↾↹↨←⇌⇠↨↹⇙↹⇸↨⇛↙⇛↹⇠⇛⇛↲⇆←↝↟↞↹⇌⇛↨⇛⇯⇊↾↹⇒←↙⇌⇛↹⇷⇯⇛⇞↟↨⇴↨⇈↹⇠⇌⇛⇯←←↹↷⇠←↙⇛↹↷⇊↹↷⇠←↹⇠↤←⇒⇴⇒↟↹⇷⇯⇴↷↟⇒⇈↝⇛↹↟↹⇷⇛⇒⇙⇞↟↨←↹↳⇴⇌⇠↟↳⇴⇒⇈↝⇊↾↹↲⇴⇒⇒↹⇰⇴↹⇷⇛⇠⇒←↤↝←←↹⇞←↨↷←⇯↨⇛←↹⇰⇴↤⇴↝↟←↹⇌⇙⇯⇠⇴↹↘⇛↨↞↹⇌⇛↝←⇞↝⇛↹↞↹↝↟⇞←↙⇛↹↝←↹⇛↲←⇆⇴⇏\""
   ]
  },
  {
   "cell_type": "code",
   "execution_count": 32,
   "metadata": {
    "ExecuteTime": {
     "end_time": "2022-05-09T20:45:59.935872Z",
     "start_time": "2022-05-09T20:45:59.922872Z"
    }
   },
   "outputs": [
    {
     "name": "stdout",
     "output_type": "stream",
     "text": [
      " оеанитслвркдмупяьгыбзчжйшхюэцщфъ\n",
      "←⇠⇒↟↹↷⇊↷↟↤↟↨←↹↝⇛⇯↳⇴⇒⇈↝⇊↾↹↟↹⇷⇛⇞↨↹←⇌⇠↨↹⇙↹⇸↨⇛↙⇛↹⇠⇛⇛↲⇆←↝↟↞↹⇌⇛⇯↹⇒←↙⇷⇯⇞↨⇴↨⇈⇠⇯←↷⇠⇠↤←⇒⇯⇴⇛⇒⇙↹⇴⇠↟↹↲⇒⇒↹⇰⇴⇛←↤↝↹⇞←↨↷←⇯⇛⇴↤⇴↟⇌⇙⇯⇠↹↘↨⇛←⇞↹↟↹↲←⇆⇴\n"
     ]
    }
   ],
   "source": [
    "enc_freqs = get_ngram_frequencies(encrypted_text, n_gram=2)\n",
    "\n",
    "corpus_freqs_sorted = sorted(corpus_freqs.items(), key=lambda x: x[1], reverse=True)\n",
    "message_freqs_sorted = sorted(enc_freqs.items(), key=lambda x: x[1], reverse=True)\n",
    "\n",
    "alphabet_corpus = \"\".join([c for c, _ in corpus_freqs_sorted])\n",
    "alphabet_enc = \"\".join([c for c, _ in enc_freqs])\n",
    "print(alphabet_corpus)\n",
    "print(alphabet_enc)"
   ]
  },
  {
   "cell_type": "code",
   "execution_count": 27,
   "metadata": {
    "ExecuteTime": {
     "end_time": "2022-05-09T20:44:02.392149Z",
     "start_time": "2022-05-09T20:42:40.317455Z"
    }
   },
   "outputs": [],
   "source": [
    "best_reverse_permutation = get_reverse_permutation_mcmc(encrypted_text, freqs_corpus=freqs_corpus,\n",
    "                                                        alphabet_encoded=alphabet_enc, alphabet_iter=alphabet_corpus)"
   ]
  },
  {
   "cell_type": "code",
   "execution_count": 28,
   "metadata": {
    "ExecuteTime": {
     "end_time": "2022-05-09T20:44:23.509357Z",
     "start_time": "2022-05-09T20:44:23.504357Z"
    }
   },
   "outputs": [
    {
     "data": {
      "text/plain": [
       "'евли сь сидине форкаляфьй или помни форкаляфьй не-вн - -но-о воо--ефи- -онорьй ле--о проминаня в-орее све-о сь све вделали прасиляфо и пол-мине ка-викаляфьй -алл -а повледфее менсерное -адафие --рва -он- -офемфо - фиме-о фе о-е-а-'"
      ]
     },
     "execution_count": 28,
     "metadata": {},
     "output_type": "execute_result"
    }
   ],
   "source": [
    "decoded_text = encode_text(encrypted_text, best_reverse_permutation)\n",
    "decoded_text"
   ]
  },
  {
   "cell_type": "markdown",
   "metadata": {},
   "source": [
    "Как-то сложно назвать это хорошим переводом, но понять, где в реализации допущена ошибка, не удалось"
   ]
  }
 ],
 "metadata": {
  "kernelspec": {
   "display_name": "Python 3",
   "language": "python",
   "name": "python3"
  },
  "language_info": {
   "codemirror_mode": {
    "name": "ipython",
    "version": 3
   },
   "file_extension": ".py",
   "mimetype": "text/x-python",
   "name": "python",
   "nbconvert_exporter": "python",
   "pygments_lexer": "ipython3",
   "version": "3.7.3"
  },
  "toc": {
   "base_numbering": 1,
   "nav_menu": {},
   "number_sections": true,
   "sideBar": true,
   "skip_h1_title": false,
   "title_cell": "Table of Contents",
   "title_sidebar": "Contents",
   "toc_cell": false,
   "toc_position": {},
   "toc_section_display": true,
   "toc_window_display": true
  },
  "varInspector": {
   "cols": {
    "lenName": 16,
    "lenType": 16,
    "lenVar": 40
   },
   "kernels_config": {
    "python": {
     "delete_cmd_postfix": "",
     "delete_cmd_prefix": "del ",
     "library": "var_list.py",
     "varRefreshCmd": "print(var_dic_list())"
    },
    "r": {
     "delete_cmd_postfix": ") ",
     "delete_cmd_prefix": "rm(",
     "library": "var_list.r",
     "varRefreshCmd": "cat(var_dic_list()) "
    }
   },
   "types_to_exclude": [
    "module",
    "function",
    "builtin_function_or_method",
    "instance",
    "_Feature"
   ],
   "window_display": false
  }
 },
 "nbformat": 4,
 "nbformat_minor": 2
}
